{
  "nbformat": 4,
  "nbformat_minor": 0,
  "metadata": {
    "colab": {
      "provenance": [],
      "authorship_tag": "ABX9TyMP1T1vFI9JJSJBnZ8XOOWf",
      "include_colab_link": true
    },
    "kernelspec": {
      "name": "python3",
      "display_name": "Python 3"
    },
    "language_info": {
      "name": "python"
    }
  },
  "cells": [
    {
      "cell_type": "markdown",
      "metadata": {
        "id": "view-in-github",
        "colab_type": "text"
      },
      "source": [
        "<a href=\"https://colab.research.google.com/github/Olivier-Kazadi/KNN_Classifier/blob/main/KNN_Classifier.ipynb\" target=\"_parent\"><img src=\"https://colab.research.google.com/assets/colab-badge.svg\" alt=\"Open In Colab\"/></a>"
      ]
    },
    {
      "cell_type": "markdown",
      "source": [
        "**Importation des librairies**"
      ],
      "metadata": {
        "id": "TqmdJ1IViXKR"
      }
    },
    {
      "cell_type": "code",
      "source": [
        "import os\n",
        "from sklearn.feature_extraction.text import TfidfVectorizer\n",
        "from sklearn.model_selection import train_test_split\n",
        "from sklearn.neighbors import KNeighborsClassifier"
      ],
      "metadata": {
        "id": "eQM5jEzEiu20"
      },
      "execution_count": 1,
      "outputs": []
    },
    {
      "cell_type": "markdown",
      "source": [
        "**Chemin vers les fichiers texte**"
      ],
      "metadata": {
        "id": "X_pog-8kjgDU"
      }
    },
    {
      "cell_type": "code",
      "source": [
        "#path = r\"C:\\Users\\okaza\\Desktop\\kazadoli\\Projet_IA\\DATASET\\DataSet_Start\"\n",
        "path = os.path.abspath(\"C:\\\\Users\\\\okaza\\\\Desktop\\\\DATASET\\\\DataSet_Start\\\\BENCH\\\\B_1.txt\")"
      ],
      "metadata": {
        "id": "_0vvceROjlxm"
      },
      "execution_count": 28,
      "outputs": []
    },
    {
      "cell_type": "markdown",
      "source": [
        "**Listes pour le contenu et les etiquettes**"
      ],
      "metadata": {
        "id": "hEHcrxh-kHEE"
      }
    },
    {
      "cell_type": "code",
      "source": [
        "data = []\n",
        "\n",
        "class_names = [\"bench\", \"deadlift\", \"squat\"]\n",
        "labels = []"
      ],
      "metadata": {
        "id": "Txk3n99gkZoa"
      },
      "execution_count": 29,
      "outputs": []
    },
    {
      "cell_type": "markdown",
      "source": [
        "**Parcours de tous les fichiers texte**\n",
        "\n",
        "**1) On vas d'abord lire nos fichiers et les stocker dans notre liste data**\n",
        "\n",
        "**2) On vas extraire le nom de la classe a partir du nom du fichier et ajouter la classe à la liste labels.**"
      ],
      "metadata": {
        "id": "EIRb2_vqmQiq"
      }
    },
    {
      "cell_type": "markdown",
      "source": [
        "**1) Lecture de nos fichiers puis ajout dans data**"
      ],
      "metadata": {
        "id": "eeOUOojIqtDB"
      }
    },
    {
      "cell_type": "code",
      "source": [
        "for filename in os.listdir(path):\n",
        "  if filename.endswith(\".txt\"):\n",
        "    # Ouvrir le fichier et stocker son contenu dans la liste 'data'\n",
        "    with open(os.path.join(path, filename), 'r') as f:\n",
        "      content = f.read()\n",
        "      data.append(content)"
      ],
      "metadata": {
        "colab": {
          "base_uri": "https://localhost:8080/",
          "height": 235
        },
        "id": "1zWPIhHDmZuF",
        "outputId": "93da0c3a-5533-491a-eb2c-217b91538893"
      },
      "execution_count": 30,
      "outputs": [
        {
          "output_type": "error",
          "ename": "FileNotFoundError",
          "evalue": "ignored",
          "traceback": [
            "\u001b[0;31m---------------------------------------------------------------------------\u001b[0m",
            "\u001b[0;31mFileNotFoundError\u001b[0m                         Traceback (most recent call last)",
            "\u001b[0;32m<ipython-input-30-141035352962>\u001b[0m in \u001b[0;36m<cell line: 1>\u001b[0;34m()\u001b[0m\n\u001b[0;32m----> 1\u001b[0;31m \u001b[0;32mfor\u001b[0m \u001b[0mfilename\u001b[0m \u001b[0;32min\u001b[0m \u001b[0mos\u001b[0m\u001b[0;34m.\u001b[0m\u001b[0mlistdir\u001b[0m\u001b[0;34m(\u001b[0m\u001b[0mpath\u001b[0m\u001b[0;34m)\u001b[0m\u001b[0;34m:\u001b[0m\u001b[0;34m\u001b[0m\u001b[0;34m\u001b[0m\u001b[0m\n\u001b[0m\u001b[1;32m      2\u001b[0m   \u001b[0;32mif\u001b[0m \u001b[0mfilename\u001b[0m\u001b[0;34m.\u001b[0m\u001b[0mendswith\u001b[0m\u001b[0;34m(\u001b[0m\u001b[0;34m\".txt\"\u001b[0m\u001b[0;34m)\u001b[0m\u001b[0;34m:\u001b[0m\u001b[0;34m\u001b[0m\u001b[0;34m\u001b[0m\u001b[0m\n\u001b[1;32m      3\u001b[0m     \u001b[0;31m# Ouvrir le fichier et stocker son contenu dans la liste 'data'\u001b[0m\u001b[0;34m\u001b[0m\u001b[0;34m\u001b[0m\u001b[0m\n\u001b[1;32m      4\u001b[0m     \u001b[0;32mwith\u001b[0m \u001b[0mopen\u001b[0m\u001b[0;34m(\u001b[0m\u001b[0mos\u001b[0m\u001b[0;34m.\u001b[0m\u001b[0mpath\u001b[0m\u001b[0;34m.\u001b[0m\u001b[0mjoin\u001b[0m\u001b[0;34m(\u001b[0m\u001b[0mpath\u001b[0m\u001b[0;34m,\u001b[0m \u001b[0mfilename\u001b[0m\u001b[0;34m)\u001b[0m\u001b[0;34m,\u001b[0m \u001b[0;34m'r'\u001b[0m\u001b[0;34m)\u001b[0m \u001b[0;32mas\u001b[0m \u001b[0mf\u001b[0m\u001b[0;34m:\u001b[0m\u001b[0;34m\u001b[0m\u001b[0;34m\u001b[0m\u001b[0m\n\u001b[1;32m      5\u001b[0m       \u001b[0mcontent\u001b[0m \u001b[0;34m=\u001b[0m \u001b[0mf\u001b[0m\u001b[0;34m.\u001b[0m\u001b[0mread\u001b[0m\u001b[0;34m(\u001b[0m\u001b[0;34m)\u001b[0m\u001b[0;34m\u001b[0m\u001b[0;34m\u001b[0m\u001b[0m\n",
            "\u001b[0;31mFileNotFoundError\u001b[0m: [Errno 2] No such file or directory: '/content/C:\\\\Users\\\\okaza\\\\Desktop\\\\DATASET\\\\DataSet_Start\\\\BENCH\\\\B_1.txt'"
          ]
        }
      ]
    },
    {
      "cell_type": "markdown",
      "source": [
        "**2) Extraction du nom de la classe et ajout à labels**"
      ],
      "metadata": {
        "id": "lvO6_euVqzSE"
      }
    },
    {
      "cell_type": "code",
      "source": [
        "for filename in os.listdir(path):\n",
        "  if filename.endswith(\".txt\"):\n",
        "    # Extraire le nom de la classe à partir du nom du fichier\n",
        "    class_name = filename.split(\"_\")[0]\n",
        "\n",
        "    # Ajouter le nom de la classe à la liste 'labels'\n",
        "    if class_name == class_names[0]:\n",
        "      labels.append(0) # 0 correspond à la classe \"bench\"\n",
        "    elif class_name == class_names[1]:\n",
        "      labels.append(1) # 1 correspond à la classe \"deadlift\"\n",
        "    elif class_name == class_names[2]:\n",
        "      labels.append(2) # 2 correspond à la classe \"squat\""
      ],
      "metadata": {
        "id": "ajqMUh1oqkjB"
      },
      "execution_count": null,
      "outputs": []
    },
    {
      "cell_type": "markdown",
      "source": [
        "**Creation d'un objet vectoriseur TF-IDF**"
      ],
      "metadata": {
        "id": "N4r6FqC1nbuS"
      }
    },
    {
      "cell_type": "code",
      "source": [
        "vectorizer =  TfidfVectorizer()\n",
        "\n",
        "# On applique la transformation TF-IDF aux données\n",
        "X = vectorizer.fit_transform(data)"
      ],
      "metadata": {
        "id": "QtPqRWtunk2J"
      },
      "execution_count": null,
      "outputs": []
    },
    {
      "cell_type": "markdown",
      "source": [
        "**Division des données en ensemble d'entrainement et de test**"
      ],
      "metadata": {
        "id": "4o1-7MLSokAK"
      }
    },
    {
      "cell_type": "code",
      "source": [
        "X_train, X_test, y_train, y_test = train_test_split(X, labels, test_size=0.2, random_state=42)"
      ],
      "metadata": {
        "id": "jUHxXWQZoqdN"
      },
      "execution_count": null,
      "outputs": []
    },
    {
      "cell_type": "markdown",
      "source": [
        "**Creation du classifieur KNN**"
      ],
      "metadata": {
        "id": "D2aohQl-pLP8"
      }
    },
    {
      "cell_type": "code",
      "source": [
        "knn = KNeighborsClassifier(n_neighbors=5)\n",
        "\n",
        "# Entrainer les classifieur sur les données d'entrainement\n",
        "knn.fit(X_train, y_train)\n",
        "\n",
        "# Evaluer les performances du classifieur sur les données de test\n",
        "accuracy = knn.score(X_test, y_test)\n",
        "print(\"Accuracy:\", accuracy)"
      ],
      "metadata": {
        "id": "pAfR5Cn_pRUQ"
      },
      "execution_count": null,
      "outputs": []
    }
  ]
}